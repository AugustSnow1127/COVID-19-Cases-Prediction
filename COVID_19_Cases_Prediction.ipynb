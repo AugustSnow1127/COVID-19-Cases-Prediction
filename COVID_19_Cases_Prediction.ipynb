{
  "nbformat": 4,
  "nbformat_minor": 0,
  "metadata": {
    "colab": {
      "name": "COVID-19 Cases Prediction.ipynb",
      "provenance": [],
      "collapsed_sections": [],
      "toc_visible": true,
      "authorship_tag": "ABX9TyOIWgHZAuIWwq1cbMomPQcY",
      "include_colab_link": true
    },
    "kernelspec": {
      "name": "python3",
      "display_name": "Python 3"
    },
    "language_info": {
      "name": "python"
    },
    "accelerator": "GPU"
  },
  "cells": [
    {
      "cell_type": "markdown",
      "metadata": {
        "id": "view-in-github",
        "colab_type": "text"
      },
      "source": [
        "<a href=\"https://colab.research.google.com/github/AugustSnow1127/COVID-19-Cases-Prediction/blob/main/COVID_19_Cases_Prediction.ipynb\" target=\"_parent\"><img src=\"https://colab.research.google.com/assets/colab-badge.svg\" alt=\"Open In Colab\"/></a>"
      ]
    },
    {
      "cell_type": "markdown",
      "metadata": {
        "id": "St3hNLLSLLn6"
      },
      "source": [
        "# **COVID-19 Cases Prediction**"
      ]
    },
    {
      "cell_type": "markdown",
      "metadata": {
        "id": "iPQHkTIjLXcK"
      },
      "source": [
        "Author: Chia-Hsuan, Chang"
      ]
    },
    {
      "cell_type": "markdown",
      "metadata": {
        "id": "Ku-_j2v8P70w"
      },
      "source": [
        "# **Download Data**"
      ]
    },
    {
      "cell_type": "code",
      "metadata": {
        "colab": {
          "base_uri": "https://localhost:8080/"
        },
        "id": "BPnwedS8TGeP",
        "outputId": "8057897c-00a5-43dc-e067-47ff7751f5fc"
      },
      "source": [
        "tr_path = 'covid.train.csv'\n",
        "tt_path = 'covid.test.csv'\n",
        "\n",
        "!gdown --id '19CCyCgJrUxtvgZF53vnctJiOJ23T5mqF' --output covid.train.csv\n",
        "!gdown --id '1CE240jLm2npU-tdz81-oVKEF3T2yfT1O' --output covid.test.csv"
      ],
      "execution_count": 2,
      "outputs": [
        {
          "output_type": "stream",
          "name": "stdout",
          "text": [
            "Downloading...\n",
            "From: https://drive.google.com/uc?id=19CCyCgJrUxtvgZF53vnctJiOJ23T5mqF\n",
            "To: /content/covid.train.csv\n",
            "100% 2.00M/2.00M [00:00<00:00, 64.5MB/s]\n",
            "Downloading...\n",
            "From: https://drive.google.com/uc?id=1CE240jLm2npU-tdz81-oVKEF3T2yfT1O\n",
            "To: /content/covid.test.csv\n",
            "100% 651k/651k [00:00<00:00, 43.3MB/s]\n"
          ]
        }
      ]
    },
    {
      "cell_type": "markdown",
      "metadata": {
        "id": "H0kLwTQjQs2I"
      },
      "source": [
        "# **Import Package**"
      ]
    },
    {
      "cell_type": "code",
      "metadata": {
        "id": "ltwcmRVAVJN3"
      },
      "source": [
        "# PyTorch\n",
        "import torch\n",
        "import torch.nn as nn\n",
        "from torch.utils.data import Dataset, DataLoader\n",
        "\n",
        "# For data preprocess\n",
        "import numpy as np\n",
        "import csv\n",
        "import os\n",
        "\n",
        "# For plotting\n",
        "import matplotlib.pyplot as plt\n",
        "from matplotlib.pyplot import figure\n",
        "\n",
        "myseed = 42069  # set a random seed for reproducibility\n",
        "torch.backends.cudnn.deterministic = True\n",
        "torch.backends.cudnn.benchmark = False\n",
        "np.random.seed(myseed)\n",
        "torch.manual_seed(myseed)\n",
        "if torch.cuda.is_available():\n",
        "    torch.cuda.manual_seed_all(myseed)"
      ],
      "execution_count": 3,
      "outputs": []
    },
    {
      "cell_type": "markdown",
      "metadata": {
        "id": "2bdIkNmHQxV3"
      },
      "source": [
        "# **Utilities**"
      ]
    },
    {
      "cell_type": "code",
      "metadata": {
        "id": "d_wXv2I0is_z"
      },
      "source": [
        "def get_device():\n",
        "    ''' Get device (if GPU is available, use GPU) '''\n",
        "    return 'cuda' if torch.cuda.is_available() else 'cpu'\n",
        "\n",
        "def plot_learning_curve(loss_record, title=''):\n",
        "    ''' Plot learning curve of your DNN (train & dev loss) '''\n",
        "    total_steps = len(loss_record['train'])\n",
        "    x_1 = range(total_steps)\n",
        "    x_2 = x_1[::len(loss_record['train']) // len(loss_record['dev'])]\n",
        "    figure(figsize=(6, 4))\n",
        "    plt.plot(x_1, loss_record['train'], c='tab:red', label='train')\n",
        "    plt.plot(x_2, loss_record['dev'], c='tab:cyan', label='dev')\n",
        "    plt.ylim(0.0, 5.)\n",
        "    # plot label\n",
        "    plt.xlabel('Training steps')\n",
        "    plt.ylabel('MSE loss')\n",
        "    plt.title('Learning curve of {}'.format(title))\n",
        "    plt.legend()\n",
        "    plt.show()\n",
        "\n",
        "\n",
        "def plot_pred(dv_set, model, device, lim=35., preds=None, targets=None):\n",
        "    ''' Plot prediction of your DNN '''\n",
        "    if preds is None or targets is None:\n",
        "        model.eval() # set model to evaluating mode\n",
        "        preds, targets = [], []\n",
        "        for x, y in dv_set:\n",
        "            x, y = x.to(device), y.to(device)\n",
        "            with torch.no_grad():\n",
        "                pred = model(x)\n",
        "                preds.append(pred.detach().cpu())\n",
        "                targets.append(y.detach().cpu())\n",
        "        preds = torch.cat(preds, dim=0).numpy()\n",
        "        targets = torch.cat(targets, dim=0).numpy()\n",
        "\n",
        "    figure(figsize=(5, 5))\n",
        "    plt.scatter(targets, preds, c='r', alpha=0.5)\n",
        "    plt.plot([-0.2, lim], [-0.2, lim], c='b')\n",
        "    plt.xlim(-0.2, lim)\n",
        "    plt.ylim(-0.2, lim)\n",
        "    plt.xlabel('ground truth value')\n",
        "    plt.ylabel('predicted value')\n",
        "    plt.title('Ground Truth v.s. Prediction')\n",
        "    plt.show()"
      ],
      "execution_count": 4,
      "outputs": []
    },
    {
      "cell_type": "markdown",
      "metadata": {
        "id": "s_UQ4e7tkxfJ"
      },
      "source": [
        "# **Preprocessing**\n",
        "* `train`: for training\n",
        "* `dev`: for validation\n",
        "* `test`: for testing (w/o target value)"
      ]
    },
    {
      "cell_type": "markdown",
      "metadata": {
        "id": "QSDNpfIcdIvh"
      },
      "source": [
        "## **Dataset**\n",
        "\n",
        "The `COVID19Dataset` below does:\n",
        "* read `.csv` files\n",
        "* extract features\n",
        "* split `covid.train.csv` into train/dev sets\n",
        "* normalize features"
      ]
    },
    {
      "cell_type": "code",
      "metadata": {
        "id": "ncvbIOb4rwCB"
      },
      "source": [
        "class COVID19Dataset(Dataset):\n",
        "    ''' Dataset for loading and preprocessing the COVID19 dataset '''\n",
        "    def __init__(self, path, mode='train', target_only=False):\n",
        "        self.mode = mode\n",
        "\n",
        "        # Read data into numpy arrays\n",
        "        with open(path, 'r') as fp:\n",
        "            data = list(csv.reader(fp))\n",
        "            data = np.array(data[1:])[:, 1:].astype(float)\n",
        "        \n",
        "        # Decide to use whole features or specific features\n",
        "        if not target_only:\n",
        "            feats = list(range(93)) # Use the whole features (40 states + day 1 (18) + day 2 (18) + day 3 (17)\n",
        "        else:\n",
        "            # Using 40 states & 2 tested_positive features (indices = 57 & 75)\n",
        "            feats = list(range(40))\n",
        "            feats.append(57)\n",
        "            feats.append(75)\n",
        "            pass\n",
        "\n",
        "        if mode == 'test':\n",
        "            # Testing data\n",
        "            # data: 893 x 93 (40 states + day 1 (18) + day 2 (18) + day 3 (17))\n",
        "            data = data[:, feats]\n",
        "            self.data = torch.FloatTensor(data)\n",
        "        else:\n",
        "            # Training data (train/dev sets)\n",
        "            # data: 2700 x 94 (40 states + day 1 (18) + day 2 (18) + day 3 (18))\n",
        "            target = data[:, -1]\n",
        "            data = data[:, feats]\n",
        "            \n",
        "            # Splitting training data into train & dev sets\n",
        "            if mode == 'train':\n",
        "                indices = [i for i in range(len(data)) if i % 10 != 0]\n",
        "            elif mode == 'dev':\n",
        "                indices = [i for i in range(len(data)) if i % 10 == 0]\n",
        "            \n",
        "            # Convert data into PyTorch tensors\n",
        "            self.data = torch.FloatTensor(data[indices])\n",
        "            self.target = torch.FloatTensor(target[indices])\n",
        "\n",
        "        # Normalize features (you may remove this part to see what will happen)\n",
        "        self.data[:, 40:] = \\\n",
        "            (self.data[:, 40:] - self.data[:, 40:].mean(dim=0, keepdim=True)) \\\n",
        "            / self.data[:, 40:].std(dim=0, keepdim=True)\n",
        "\n",
        "        self.dim = self.data.shape[1]\n",
        "\n",
        "        print('Finished reading the {} set of COVID19 Dataset ({} samples found, each dim = {})'\n",
        "              .format(mode, len(self.data), self.dim))\n",
        "\n",
        "    def __getitem__(self, index):\n",
        "        # Returns one sample at a time\n",
        "        if self.mode in ['train', 'dev']:\n",
        "            # For training\n",
        "            return self.data[index], self.target[index]\n",
        "        else:\n",
        "            # For testing (no target)\n",
        "            return self.data[index]\n",
        "\n",
        "    def __len__(self):\n",
        "        # Returns the size of the dataset\n",
        "        return len(self.data)"
      ],
      "execution_count": 15,
      "outputs": []
    },
    {
      "cell_type": "markdown",
      "metadata": {
        "id": "QUhDoE2VRBMv"
      },
      "source": [
        "## **Dataloader**"
      ]
    },
    {
      "cell_type": "code",
      "metadata": {
        "id": "aX0b4or3Xjno"
      },
      "source": [
        "def prep_dataloader(path, mode, batch_size, n_jobs=0, target_only=False):\n",
        "    ''' Generates a dataset, then is put into a dataloader. '''\n",
        "    dataset = COVID19Dataset(path, mode=mode, target_only=target_only) # Construct dataset\n",
        "    dataloader = DataLoader(\n",
        "        dataset, batch_size,\n",
        "        shuffle=(mode == 'train'), drop_last=False,\n",
        "        num_workers=n_jobs, pin_memory=True) # Construct dataloader\n",
        "    return dataloader"
      ],
      "execution_count": 6,
      "outputs": []
    },
    {
      "cell_type": "markdown",
      "metadata": {
        "id": "XgoN6Pjhc3Ay"
      },
      "source": [
        "# **Deep Neural Network**\n",
        "\n",
        "`NeuralNet` is an `nn.Module` designed for regression.\n",
        "The DNN consists of 2 fully-connected layers with ReLU activation.\n",
        "This module also included a function `cal_loss` for calculating loss.\n",
        "\n"
      ]
    },
    {
      "cell_type": "code",
      "metadata": {
        "id": "eOUU3Z14g2ub"
      },
      "source": [
        "class NeuralNet(nn.Module):\n",
        "    ''' A simple fully-connected deep neural network '''\n",
        "    def __init__(self, input_dim):\n",
        "        super(NeuralNet, self).__init__()\n",
        "\n",
        "        # Define your neural network here\n",
        "        # How to modify this model to achieve better performance?\n",
        "        self.net = nn.Sequential(\n",
        "            nn.Linear(input_dim, 64),\n",
        "            nn.ReLU(),\n",
        "            nn.ReLU(),\n",
        "            nn.Linear(64, 1)\n",
        "        )\n",
        "\n",
        "        # Mean squared error loss\n",
        "        self.criterion = nn.MSELoss(reduction='mean')\n",
        "\n",
        "    def forward(self, x):\n",
        "        ''' Given input of size (batch_size x input_dim), compute output of the network '''\n",
        "        return self.net(x).squeeze(1)\n",
        "\n",
        "    def cal_loss(self, pred, target):\n",
        "        ''' Calculate loss '''\n",
        "        # TODO: you may implement L1/L2 regularization here\n",
        "        return self.criterion(pred, target)"
      ],
      "execution_count": 7,
      "outputs": []
    },
    {
      "cell_type": "markdown",
      "metadata": {
        "id": "HWX1LHkxiGoF"
      },
      "source": [
        "# **Train/Dev/Test**"
      ]
    },
    {
      "cell_type": "markdown",
      "metadata": {
        "id": "tUXaJExIiHcG"
      },
      "source": [
        "## **Training**"
      ]
    },
    {
      "cell_type": "code",
      "metadata": {
        "id": "RTAczLPWiMJY"
      },
      "source": [
        "def train(tr_set, dv_set, model, config, device):\n",
        "    ''' DNN training '''\n",
        "\n",
        "    n_epochs = config['n_epochs']  # Maximum number of epochs from hyper-parameter\n",
        "\n",
        "    # Setup optimizer\n",
        "    optimizer = getattr(torch.optim, config['optimizer'])(\n",
        "        model.parameters(), **config['optim_hparas'])\n",
        "\n",
        "    min_mse = 1000.\n",
        "    loss_record = {'train': [], 'dev': []}      # for recording training loss\n",
        "    early_stop_cnt = 0\n",
        "    epoch = 0\n",
        "    while epoch < n_epochs:\n",
        "        model.train()                           # set model to training mode\n",
        "        for x, y in tr_set:                     # iterate through the dataloader\n",
        "            optimizer.zero_grad()               # set gradient to zero\n",
        "            x, y = x.to(device), y.to(device)   # move data to device (cpu/cuda)\n",
        "            pred = model(x)                     # forward pass (compute output)\n",
        "            mse_loss = model.cal_loss(pred, y)  # compute loss\n",
        "            mse_loss.backward()                 # compute gradient (backpropagation)\n",
        "            optimizer.step()                    # update model with optimizer\n",
        "            loss_record['train'].append(mse_loss.detach().cpu().item())\n",
        "\n",
        "        # After each epoch, test your model on the validation (development) set.\n",
        "        dev_mse = dev(dv_set, model, device)\n",
        "        if dev_mse < min_mse:\n",
        "            # Save model if your model improved\n",
        "            min_mse = dev_mse\n",
        "            print('Saving model (epoch = {:4d}, loss = {:.4f})'\n",
        "                .format(epoch + 1, min_mse))\n",
        "            torch.save(model.state_dict(), config['save_path'])  # Save model to specified path\n",
        "            early_stop_cnt = 0\n",
        "        else:\n",
        "            early_stop_cnt += 1\n",
        "\n",
        "        epoch += 1\n",
        "        loss_record['dev'].append(dev_mse)\n",
        "        if early_stop_cnt > config['early_stop']:\n",
        "            # Stop training if your model stops improving for \"config['early_stop']\" epochs.\n",
        "            break\n",
        "\n",
        "    print('Finished training after {} epochs'.format(epoch))\n",
        "    return min_mse, loss_record"
      ],
      "execution_count": 8,
      "outputs": []
    },
    {
      "cell_type": "markdown",
      "metadata": {
        "id": "Y_OVkJz1gTv1"
      },
      "source": [
        "## **Validation**"
      ]
    },
    {
      "cell_type": "code",
      "metadata": {
        "id": "fMpXYdZ_gW6k"
      },
      "source": [
        "def dev(dv_set, model, device):\n",
        "    model.eval()                                # set model to evalutation mode\n",
        "    total_loss = 0\n",
        "    for x, y in dv_set:                         # iterate through the dataloader\n",
        "        x, y = x.to(device), y.to(device)       # move data to device (cpu/cuda)\n",
        "        with torch.no_grad():                   # disable gradient calculation\n",
        "            pred = model(x)                     # forward pass (compute output)\n",
        "            mse_loss = model.cal_loss(pred, y)  # compute loss\n",
        "        total_loss += mse_loss.detach().cpu().item() * len(x)  # accumulate loss\n",
        "    total_loss = total_loss / len(dv_set.dataset)              # compute averaged loss\n",
        "\n",
        "    return total_loss"
      ],
      "execution_count": 9,
      "outputs": []
    },
    {
      "cell_type": "markdown",
      "metadata": {
        "id": "tpB9OOAXgYoV"
      },
      "source": [
        "## **Testing**"
      ]
    },
    {
      "cell_type": "code",
      "metadata": {
        "id": "sWZTpWJggzJC"
      },
      "source": [
        "def test(tt_set, model, device):\n",
        "    model.eval()                                # set model to evalutation mode\n",
        "    preds = []\n",
        "    for x in tt_set:                            # iterate through the dataloader\n",
        "        x = x.to(device)                        # move data to device (cpu/cuda)\n",
        "        with torch.no_grad():                   # disable gradient calculation\n",
        "            pred = model(x)                     # forward pass (compute output)\n",
        "            preds.append(pred.detach().cpu())   # collect prediction\n",
        "    preds = torch.cat(preds, dim=0).numpy()     # concatenate all predictions and convert to a numpy array\n",
        "    return preds"
      ],
      "execution_count": 10,
      "outputs": []
    },
    {
      "cell_type": "markdown",
      "metadata": {
        "id": "nU-1FHDTgzv8"
      },
      "source": [
        "# **Setup Hyper-parameters**\n",
        "\n",
        "`config` contains hyper-parameters for training and the path to save the model."
      ]
    },
    {
      "cell_type": "code",
      "metadata": {
        "id": "BNQ1c4RphINE"
      },
      "source": [
        "device = get_device()                 # get the current available device ('cpu' or 'cuda')\n",
        "os.makedirs('models', exist_ok=True)  # The trained model will be saved to ./models/\n",
        "target_only = False                   # True: Using 40 states & 2 tested_positive features\n",
        "\n",
        "# TODO: How to tune these hyper-parameters to improve your model's performance?\n",
        "config = {\n",
        "    'n_epochs': 3000,                # maximum number of epochs\n",
        "    'batch_size': 270,               # mini-batch size for dataloader\n",
        "    'optimizer': 'SGD',              # optimization algorithm (optimizer in torch.optim)\n",
        "    'optim_hparas': {                # hyper-parameters for the optimizer (depends on which optimizer you are using)\n",
        "        'lr': 0.001,                 # learning rate of SGD\n",
        "        'momentum': 0.9              # momentum for SGD\n",
        "    },\n",
        "    'early_stop': 200,               # early stopping epochs (the number epochs since your model's last improvement)\n",
        "    'save_path': 'models/model.pth'  # your model will be saved here\n",
        "}"
      ],
      "execution_count": 11,
      "outputs": []
    },
    {
      "cell_type": "markdown",
      "metadata": {
        "id": "ovxN2QzEhRIU"
      },
      "source": [
        "# **Load data and model**"
      ]
    },
    {
      "cell_type": "code",
      "metadata": {
        "colab": {
          "base_uri": "https://localhost:8080/"
        },
        "id": "aKRTcrhRhUKV",
        "outputId": "f8b00a6d-d3a7-4cd6-cd27-d1cd26a6dd1d"
      },
      "source": [
        "tr_set = prep_dataloader(tr_path, 'train', config['batch_size'], target_only=target_only)\n",
        "dv_set = prep_dataloader(tr_path, 'dev', config['batch_size'], target_only=target_only)\n",
        "tt_set = prep_dataloader(tt_path, 'test', config['batch_size'], target_only=target_only)"
      ],
      "execution_count": 16,
      "outputs": [
        {
          "output_type": "stream",
          "name": "stdout",
          "text": [
            "Finished reading the train set of COVID19 Dataset (2430 samples found, each dim = 93)\n",
            "Finished reading the dev set of COVID19 Dataset (270 samples found, each dim = 93)\n",
            "Finished reading the test set of COVID19 Dataset (893 samples found, each dim = 93)\n"
          ]
        }
      ]
    },
    {
      "cell_type": "code",
      "metadata": {
        "id": "lePh8ni3hYKU"
      },
      "source": [
        "model = NeuralNet(tr_set.dataset.dim).to(device)  # Construct model and move to device"
      ],
      "execution_count": 17,
      "outputs": []
    },
    {
      "cell_type": "markdown",
      "metadata": {
        "id": "DP9XEJcEhcK8"
      },
      "source": [
        "# **Start Training!**"
      ]
    },
    {
      "cell_type": "code",
      "metadata": {
        "colab": {
          "base_uri": "https://localhost:8080/"
        },
        "id": "JX6_Q5srhd_s",
        "outputId": "5456da2f-169b-49a2-fb67-5a702a93b557"
      },
      "source": [
        "model_loss, model_loss_record = train(tr_set, dv_set, model, config, device)"
      ],
      "execution_count": 18,
      "outputs": [
        {
          "output_type": "stream",
          "name": "stdout",
          "text": [
            "Saving model (epoch =    1, loss = 83.3643)\n",
            "Saving model (epoch =    2, loss = 50.6693)\n",
            "Saving model (epoch =    3, loss = 36.7155)\n",
            "Saving model (epoch =    4, loss = 21.0903)\n",
            "Saving model (epoch =    5, loss = 11.4256)\n",
            "Saving model (epoch =    6, loss = 7.4628)\n",
            "Saving model (epoch =    7, loss = 5.8747)\n",
            "Saving model (epoch =    8, loss = 5.0146)\n",
            "Saving model (epoch =    9, loss = 4.3855)\n",
            "Saving model (epoch =   10, loss = 3.8631)\n",
            "Saving model (epoch =   11, loss = 3.4841)\n",
            "Saving model (epoch =   12, loss = 3.1894)\n",
            "Saving model (epoch =   13, loss = 2.9271)\n",
            "Saving model (epoch =   14, loss = 2.6983)\n",
            "Saving model (epoch =   15, loss = 2.4912)\n",
            "Saving model (epoch =   16, loss = 2.3517)\n",
            "Saving model (epoch =   17, loss = 2.1575)\n",
            "Saving model (epoch =   18, loss = 2.0647)\n",
            "Saving model (epoch =   19, loss = 1.9390)\n",
            "Saving model (epoch =   20, loss = 1.8396)\n",
            "Saving model (epoch =   21, loss = 1.7885)\n",
            "Saving model (epoch =   22, loss = 1.7364)\n",
            "Saving model (epoch =   23, loss = 1.6184)\n",
            "Saving model (epoch =   24, loss = 1.5867)\n",
            "Saving model (epoch =   25, loss = 1.5404)\n",
            "Saving model (epoch =   26, loss = 1.5044)\n",
            "Saving model (epoch =   27, loss = 1.4445)\n",
            "Saving model (epoch =   28, loss = 1.3869)\n",
            "Saving model (epoch =   29, loss = 1.3768)\n",
            "Saving model (epoch =   30, loss = 1.3423)\n",
            "Saving model (epoch =   31, loss = 1.3209)\n",
            "Saving model (epoch =   32, loss = 1.2801)\n",
            "Saving model (epoch =   33, loss = 1.2673)\n",
            "Saving model (epoch =   34, loss = 1.2355)\n",
            "Saving model (epoch =   36, loss = 1.1844)\n",
            "Saving model (epoch =   37, loss = 1.1711)\n",
            "Saving model (epoch =   39, loss = 1.1489)\n",
            "Saving model (epoch =   40, loss = 1.1340)\n",
            "Saving model (epoch =   42, loss = 1.1285)\n",
            "Saving model (epoch =   44, loss = 1.1106)\n",
            "Saving model (epoch =   45, loss = 1.0752)\n",
            "Saving model (epoch =   47, loss = 1.0628)\n",
            "Saving model (epoch =   48, loss = 1.0572)\n",
            "Saving model (epoch =   50, loss = 1.0290)\n",
            "Saving model (epoch =   53, loss = 1.0236)\n",
            "Saving model (epoch =   54, loss = 1.0195)\n",
            "Saving model (epoch =   56, loss = 1.0115)\n",
            "Saving model (epoch =   59, loss = 0.9903)\n",
            "Saving model (epoch =   60, loss = 0.9868)\n",
            "Saving model (epoch =   62, loss = 0.9798)\n",
            "Saving model (epoch =   63, loss = 0.9710)\n",
            "Saving model (epoch =   65, loss = 0.9620)\n",
            "Saving model (epoch =   68, loss = 0.9619)\n",
            "Saving model (epoch =   69, loss = 0.9484)\n",
            "Saving model (epoch =   71, loss = 0.9482)\n",
            "Saving model (epoch =   73, loss = 0.9392)\n",
            "Saving model (epoch =   74, loss = 0.9244)\n",
            "Saving model (epoch =   76, loss = 0.9214)\n",
            "Saving model (epoch =   78, loss = 0.9078)\n",
            "Saving model (epoch =   83, loss = 0.9050)\n",
            "Saving model (epoch =   86, loss = 0.8898)\n",
            "Saving model (epoch =   90, loss = 0.8882)\n",
            "Saving model (epoch =   92, loss = 0.8865)\n",
            "Saving model (epoch =   94, loss = 0.8798)\n",
            "Saving model (epoch =   95, loss = 0.8714)\n",
            "Saving model (epoch =   98, loss = 0.8673)\n",
            "Saving model (epoch =  105, loss = 0.8598)\n",
            "Saving model (epoch =  107, loss = 0.8576)\n",
            "Saving model (epoch =  111, loss = 0.8489)\n",
            "Saving model (epoch =  116, loss = 0.8477)\n",
            "Saving model (epoch =  117, loss = 0.8472)\n",
            "Saving model (epoch =  120, loss = 0.8402)\n",
            "Saving model (epoch =  121, loss = 0.8396)\n",
            "Saving model (epoch =  124, loss = 0.8347)\n",
            "Saving model (epoch =  127, loss = 0.8279)\n",
            "Saving model (epoch =  138, loss = 0.8206)\n",
            "Saving model (epoch =  143, loss = 0.8146)\n",
            "Saving model (epoch =  159, loss = 0.8070)\n",
            "Saving model (epoch =  170, loss = 0.8055)\n",
            "Saving model (epoch =  177, loss = 0.8004)\n",
            "Saving model (epoch =  188, loss = 0.7964)\n",
            "Saving model (epoch =  191, loss = 0.7955)\n",
            "Saving model (epoch =  193, loss = 0.7897)\n",
            "Saving model (epoch =  219, loss = 0.7845)\n",
            "Saving model (epoch =  222, loss = 0.7806)\n",
            "Saving model (epoch =  252, loss = 0.7805)\n",
            "Saving model (epoch =  256, loss = 0.7802)\n",
            "Saving model (epoch =  278, loss = 0.7731)\n",
            "Saving model (epoch =  286, loss = 0.7661)\n",
            "Saving model (epoch =  358, loss = 0.7636)\n",
            "Saving model (epoch =  369, loss = 0.7630)\n",
            "Saving model (epoch =  418, loss = 0.7614)\n",
            "Saving model (epoch =  453, loss = 0.7603)\n",
            "Saving model (epoch =  466, loss = 0.7559)\n",
            "Saving model (epoch =  501, loss = 0.7529)\n",
            "Saving model (epoch =  562, loss = 0.7508)\n",
            "Saving model (epoch =  689, loss = 0.7468)\n",
            "Saving model (epoch =  762, loss = 0.7451)\n",
            "Saving model (epoch =  840, loss = 0.7447)\n",
            "Saving model (epoch =  862, loss = 0.7443)\n",
            "Saving model (epoch =  887, loss = 0.7442)\n",
            "Saving model (epoch =  916, loss = 0.7406)\n",
            "Saving model (epoch =  927, loss = 0.7368)\n",
            "Finished training after 1128 epochs\n"
          ]
        }
      ]
    },
    {
      "cell_type": "markdown",
      "metadata": {
        "id": "s0tj2djFknGg"
      },
      "source": [
        "## **ploting learning curve**"
      ]
    },
    {
      "cell_type": "code",
      "metadata": {
        "colab": {
          "base_uri": "https://localhost:8080/",
          "height": 295
        },
        "id": "8VuIAAyFi2Rc",
        "outputId": "e07afd98-ee10-42fa-84f3-9befa5170579"
      },
      "source": [
        "plot_learning_curve(model_loss_record, title='deep model')"
      ],
      "execution_count": 19,
      "outputs": [
        {
          "output_type": "display_data",
          "data": {
            "image/png": "[encoded data removed]",
            "text/plain": [
              "<Figure size 432x288 with 1 Axes>"
            ]
          },
          "metadata": {
            "needs_background": "light"
          }
        }
      ]
    },
    {
      "cell_type": "code",
      "metadata": {
        "colab": {
          "base_uri": "https://localhost:8080/",
          "height": 350
        },
        "id": "bfTHz_UdkkcK",
        "outputId": "a55cd0c6-c12e-422f-8243-ffc52f448bc3"
      },
      "source": [
        "del model\n",
        "model = NeuralNet(tr_set.dataset.dim).to(device)\n",
        "ckpt = torch.load(config['save_path'], map_location='cpu')  # Load your best model\n",
        "model.load_state_dict(ckpt)\n",
        "plot_pred(dv_set, model, device)  # Show prediction on the validation set"
      ],
      "execution_count": 20,
      "outputs": [
        {
          "output_type": "display_data",
          "data": {
            "image/png": "[encoded data removed]",
            "text/plain": [
              "<Figure size 360x360 with 1 Axes>"
            ]
          },
          "metadata": {
            "needs_background": "light"
          }
        }
      ]
    },
    {
      "cell_type": "markdown",
      "metadata": {
        "id": "kfKK6N80lq9y"
      },
      "source": [
        "# **Testing & Saving prediction**"
      ]
    },
    {
      "cell_type": "code",
      "metadata": {
        "colab": {
          "base_uri": "https://localhost:8080/"
        },
        "id": "PZw9mO09lzIB",
        "outputId": "caab9bd0-89ad-4e6c-a7aa-1f139a5f69ef"
      },
      "source": [
        "def save_pred(preds, file):\n",
        "    ''' Save predictions to specified file '''\n",
        "    print('Saving results to {}'.format(file))\n",
        "    with open(file, 'w') as fp:\n",
        "        writer = csv.writer(fp)\n",
        "        writer.writerow(['id', 'tested_positive'])\n",
        "        for i, p in enumerate(preds):\n",
        "            writer.writerow([i, p])\n",
        "\n",
        "preds = test(tt_set, model, device)  # predict COVID-19 cases with your model\n",
        "save_pred(preds, 'pred.csv')         # save prediction file to pred.csv"
      ],
      "execution_count": 21,
      "outputs": [
        {
          "output_type": "stream",
          "name": "stdout",
          "text": [
            "Saving results to pred.csv\n"
          ]
        }
      ]
    }
  ]
}